{
 "cells": [
  {
   "cell_type": "markdown",
   "id": "7b8a3e25",
   "metadata": {},
   "source": [
    "## This is a EDA Analysis done on UI Benefits + Unemployment Rates in the U.S\n",
    "\n",
    "## Samples were selected using statistical methods, such as normal approximation rule and randomized blocking design\n",
    "\n",
    "## In this first portion of code we are simply importing necessary libraries, downloading files and cleaning our unemployment insurance datasets"
   ]
  },
  {
   "cell_type": "code",
   "execution_count": 1,
   "id": "00e268c1",
   "metadata": {},
   "outputs": [],
   "source": [
    "from IPython.display import display\n",
    "from fredapi import Fred\n",
    "from scipy.stats import norm\n",
    "import math\n",
    "import scipy as sp\n",
    "import scipy.stats \n",
    "import pandas as pd\n",
    "import matplotlib.pyplot as plt\n",
    "import numpy as np\n",
    "import seaborn as sns\n",
    "\n",
    "#regresssion modeling\n",
    "from sklearn import linear_model\n",
    "import statsmodels.api as sm\n",
    "\n",
    "#manually loading files\n",
    "\n",
    "#samples for all states pre covid 06/18 - 01/20 ANTI UI\n",
    "AZclaimsPre = pd.read_csv(\"/Users/n/Downloads/Data Project UI/Updated UI Samples/AZclaimsPre.csv\")\n",
    "IDclaimsPre = pd.read_csv(\"/Users/n/Downloads/Data Project UI/Updated UI Samples/IDclaimsPre.csv\")\n",
    "MDclaimsPre = pd.read_csv(\"/Users/n/Downloads/Data Project UI/Updated UI Samples/MDclaimsPre.csv\")\n",
    "MSclaimsPre = pd.read_csv(\"/Users/n/Downloads/Data Project UI/Updated UI Samples/MSclaimsPre.csv\")\n",
    "TNclaimsPre = pd.read_csv(\"/Users/n/Downloads/Data Project UI/Updated UI Samples/TNclaimsPre.csv\")\n",
    "OHclaimsPre = pd.read_csv(\"/Users/n/Downloads/Data Project UI/Updated UI Samples/OHclaimsPre.csv\")\n",
    "WVclaimsPre = pd.read_csv(\"/Users/n/Downloads/Data Project UI/Updated UI Samples/WVclaimsPre.csv\")\n",
    "UTclaimsPre = pd.read_csv(\"/Users/n/Downloads/Data Project UI/Updated UI Samples/UTclaimsPre.csv\")\n",
    "\n",
    "#samples for all states pre covid 06/18 - 01/20 PRO UI\n",
    "CAclaimsPre = pd.read_csv(\"/Users/n/Downloads/Data Project UI/Updated UI Samples/CAclaimsPre.csv\")\n",
    "NJclaimsPre = pd.read_csv(\"/Users/n/Downloads/Data Project UI/Updated UI Samples/NJclaimsPre.csv\")\n",
    "ILclaimsPre = pd.read_csv(\"/Users/n/Downloads/Data Project UI/Updated UI Samples/ILclaimsPre.csv\")\n",
    "NVclaimsPre = pd.read_csv(\"/Users/n/Downloads/Data Project UI/Updated UI Samples/NVclaimsPre.csv\")\n",
    "NMclaimsPre = pd.read_csv(\"/Users/n/Downloads/Data Project UI/Updated UI Samples/NMclaimsPre.csv\")\n",
    "MTclaimsPre = pd.read_csv(\"/Users/n/Downloads/Data Project UI/Updated UI Samples/MTclaimsPre.csv\")\n",
    "MAclaimsPre = pd.read_csv(\"/Users/n/Downloads/Data Project UI/Updated UI Samples/MAclaimsPre.csv\")\n",
    "TXclaimsPre = pd.read_csv(\"/Users/n/Downloads/Data Project UI/Updated UI Samples/TXclaimsPre.csv\")\n",
    "\n",
    "\n",
    "\n",
    "#samples for states against UI 01/01/20 - 08/21\n",
    "AZclaims = pd.read_csv(\"/Users/n/Downloads/Data Project UI/Updated UI Samples/AZclaims.csv\")\n",
    "IDclaims = pd.read_csv(\"/Users/n/Downloads/Data Project UI/Updated UI Samples/IDclaims.csv\")\n",
    "MDclaims = pd.read_csv(\"/Users/n/Downloads/Data Project UI/Updated UI Samples/MDclaims.csv\")\n",
    "MSclaims = pd.read_csv(\"/Users/n/Downloads/Data Project UI/Updated UI Samples/MSclaims.csv\")\n",
    "TNclaims = pd.read_csv(\"/Users/n/Downloads/Data Project UI/Updated UI Samples/TNclaims.csv\")\n",
    "OHclaims = pd.read_csv(\"/Users/n/Downloads/Data Project UI/Updated UI Samples/OHclaims.csv\")\n",
    "WVclaims = pd.read_csv(\"/Users/n/Downloads/Data Project UI/Updated UI Samples/WVclaims.csv\")\n",
    "UTclaims = pd.read_csv(\"/Users/n/Downloads/Data Project UI/Updated UI Samples/UTclaims.csv\")\n",
    "\n",
    "\n",
    "#samples for states pro UI 01/01/20 - 08/21\n",
    "CAclaims = pd.read_csv(\"/Users/n/Downloads/Data Project UI/Updated UI Samples/CAclaims.csv\")\n",
    "NJclaims = pd.read_csv(\"/Users/n/Downloads/Data Project UI/Updated UI Samples/NJclaims.csv\")\n",
    "ILclaims = pd.read_csv(\"/Users/n/Downloads/Data Project UI/Updated UI Samples/ILclaims.csv\")\n",
    "NVclaims = pd.read_csv(\"/Users/n/Downloads/Data Project UI/Updated UI Samples/NVclaims.csv\")\n",
    "NMclaims = pd.read_csv(\"/Users/n/Downloads/Data Project UI/Updated UI Samples/NMclaims.csv\")\n",
    "MTclaims = pd.read_csv(\"/Users/n/Downloads/Data Project UI/Updated UI Samples/MTclaims.csv\")\n",
    "MAclaims = pd.read_csv(\"/Users/n/Downloads/Data Project UI/Updated UI Samples/MAclaims.csv\")\n",
    "TXclaims = pd.read_csv(\"/Users/n/Downloads/Data Project UI/Updated UI Samples/TXclaims.csv\")"
   ]
  },
  {
   "cell_type": "code",
   "execution_count": 2,
   "id": "8c9be732",
   "metadata": {},
   "outputs": [],
   "source": [
    "\n",
    "#lists for cleaning process\n",
    "dirtyFiles = [AZclaims, IDclaims, MDclaims, MSclaims,\n",
    "              TNclaims, OHclaims, WVclaims, UTclaims,\n",
    "              CAclaims, NJclaims, ILclaims, NVclaims,\n",
    "              NMclaims, MTclaims, MAclaims,TXclaims]\n",
    "\n",
    "dirtyFilesPre = [AZclaimsPre, IDclaimsPre, MDclaimsPre, MSclaimsPre,\n",
    "                  TNclaimsPre, OHclaimsPre, WVclaimsPre, UTclaimsPre,\n",
    "                  CAclaimsPre, NJclaimsPre, ILclaimsPre, NVclaimsPre,\n",
    "                  NMclaimsPre, MTclaimsPre, MAclaimsPre,TXclaimsPre]\n",
    "\n",
    "cleanFiles = []\n",
    "cleanFilesPre = []\n",
    "\n",
    "#list for UI Pre covid\n",
    "UIfiles_pre_covid = []\n",
    "\n",
    "#statistical values\n",
    "costFiles = []\n",
    "UIstatsFiles = []\n",
    "averageUI = []\n",
    "\n",
    "\n",
    "#lists for UR data + initializing API key\n",
    "fred = Fred(api_key= 'f8b4fd767fbe89c443a5066caa20d70c')\n",
    "\n",
    "UR_Data =   ['AZUR', 'IDUR', 'MDUR', 'MSUR',\n",
    "            'TNUR', 'OHUR', 'WVUR', 'UTUR',\n",
    "            'CAUR', 'NJUR', 'ILUR', 'NVUR',\n",
    "            'NMUR', 'MTUR', 'MAUR', 'TXUR']\n",
    "\n",
    "URfiles = []\n",
    "URfiles_pre_COVID = []\n",
    "\n",
    "#api key request UR data\n",
    "#'2020-01-01'\n",
    "#'2021-08-31'\n",
    "\n",
    "\n",
    "\n",
    "def getURdata(states, startDate, endDate, endList):\n",
    "    for i in UR_Data:\n",
    "        api_request = fred.get_series(i, observation_start = startDate,  observation_end= endDate)\n",
    "        transformData = pd.DataFrame(api_request, columns =['Unemployment Rate'])\n",
    "        noIndex = transformData.reset_index()\n",
    "        testfinal = noIndex.rename(columns = {\"index\": \"Month/Year\", \"Unemployment Rate\": \"Unemployment Rate\"})\n",
    "        endList.append(testfinal)\n",
    "\n",
    "def getUIdata(states, startDate, endDate, endList):\n",
    "    pass\n",
    "\n",
    "\n",
    "#cleans UI data by csv file and by batch\n",
    "def cleanCSV(uncleanFile, location):\n",
    "    #fixes our rows\n",
    "    clean1 = uncleanFile.drop(\n",
    "        index =[0],\n",
    "        axis = 0,\n",
    "        inplace=False\n",
    "    )\n",
    "    #second part of fixing rows\n",
    "    clean2 = clean1.drop(\n",
    "    index =[1],\n",
    "    axis = 0,\n",
    "    inplace = False\n",
    "    )\n",
    "\n",
    "    #fix the column headers\n",
    "    changeColumn = clean2.rename(\n",
    "    columns = {\"STATE\": \"Date\",\n",
    "    \"Initial\": \"Initial Claims\",\n",
    "    \"First\": \"First Payments\",\n",
    "    \"Weeks\": \"Weeks Claimed\",\n",
    "    \"Weeks.1\": \"Weeks Compensated\",\n",
    "    \"Avg. Wkly\": \"Avg. Wkly Benefit\",\n",
    "    \"Benefits\": \"Benefits Paid\",\n",
    "    \"Final\": \"Final Payments\"\n",
    "    }\n",
    "    )\n",
    "\n",
    "    #changes data type\n",
    "    #changeColumn['Benefits Paid'] = changeColumn['Benefits Paid'].astype(float)\n",
    "    changeColumn[\"Initial Claims\"]=changeColumn[\"Initial Claims\"].str.replace(',', '')\n",
    "    changeColumn[\"First Payments\"]=changeColumn[\"First Payments\"].str.replace(',', '')\n",
    "    changeColumn[\"Weeks Claimed\"]=changeColumn[\"Weeks Claimed\"].str.replace(',', '')\n",
    "    changeColumn[\"Weeks Compensated\"]=changeColumn[\"Weeks Compensated\"].str.replace(',', '')\n",
    "    changeColumn[\"Weeks Claimed\"]=changeColumn[\"Benefits Paid\"].str.replace(',', '')\n",
    "    changeColumn[\"Benefits Paid\"]=changeColumn[\"Benefits Paid\"].str.replace(',', '')\n",
    "    changeColumn[\"Final Payments\"]=changeColumn[\"Final Payments\"].str.replace(',', '')\n",
    "\n",
    "    #changes data type\n",
    "    changeColumn['Benefits Paid'] = changeColumn['Benefits Paid'].astype(float)\n",
    "\n",
    "    location.append(changeColumn)\n",
    "    \n",
    "    #cleaning our UI data\n",
    "def batchClean(dirtyData, location):\n",
    "    for i in dirtyData:\n",
    "        cleanCSV(i, location)\n"
   ]
  },
  {
   "cell_type": "code",
   "execution_count": 3,
   "id": "1ac4ee2b",
   "metadata": {},
   "outputs": [],
   "source": [
    "#cleaning our data post covid\n",
    "batchClean(dirtyFiles, cleanFiles)\n",
    "\n",
    "#clean post covid UER data\n",
    "getURdata(UR_Data,'2020-01-01', '2021-08-01', URfiles)\n",
    "\n",
    "\n",
    "#clean pre covid UER data\n",
    "getURdata(UR_Data, '2018-06-01', '2020-01-01', URfiles_pre_COVID)\n",
    "\n",
    "#cleaning our data pre covid\n",
    "batchClean(dirtyFilesPre, cleanFilesPre)\n",
    "\n"
   ]
  },
  {
   "cell_type": "markdown",
   "id": "e4486913",
   "metadata": {},
   "source": [
    "## In this block of code we are filtering our dataset "
   ]
  },
  {
   "cell_type": "code",
   "execution_count": 4,
   "id": "efa000d1",
   "metadata": {},
   "outputs": [],
   "source": [
    "#filters data\n",
    "def get_top_claims(file):\n",
    "    columns = file[['Date', 'Benefits Paid', 'Initial Claims']]\n",
    "    top_benefits = columns.sort_values(by=['Benefits Paid'], ascending = False)\n",
    "    return top_benefits.head()\n",
    "def filter_ur(file):\n",
    "    columns = file[['Month/Year', 'Unemployment Rate']]\n",
    "    filter = columns.sort_values(by=['Unemployment Rate'], ascending = False)\n",
    "    return filter.head()"
   ]
  },
  {
   "cell_type": "code",
   "execution_count": 5,
   "id": "c8f15322",
   "metadata": {
    "scrolled": true
   },
   "outputs": [
    {
     "data": {
      "text/html": [
       "<div>\n",
       "<style scoped>\n",
       "    .dataframe tbody tr th:only-of-type {\n",
       "        vertical-align: middle;\n",
       "    }\n",
       "\n",
       "    .dataframe tbody tr th {\n",
       "        vertical-align: top;\n",
       "    }\n",
       "\n",
       "    .dataframe thead th {\n",
       "        text-align: right;\n",
       "    }\n",
       "</style>\n",
       "<table border=\"1\" class=\"dataframe\">\n",
       "  <thead>\n",
       "    <tr style=\"text-align: right;\">\n",
       "      <th></th>\n",
       "      <th>Date</th>\n",
       "      <th>Benefits Paid</th>\n",
       "      <th>Initial Claims</th>\n",
       "    </tr>\n",
       "  </thead>\n",
       "  <tbody>\n",
       "    <tr>\n",
       "      <th>7</th>\n",
       "      <td>6/30/20</td>\n",
       "      <td>258024297.0</td>\n",
       "      <td>110709</td>\n",
       "    </tr>\n",
       "    <tr>\n",
       "      <th>9</th>\n",
       "      <td>8/31/20</td>\n",
       "      <td>223939806.0</td>\n",
       "      <td>52303</td>\n",
       "    </tr>\n",
       "    <tr>\n",
       "      <th>8</th>\n",
       "      <td>7/31/20</td>\n",
       "      <td>189249834.0</td>\n",
       "      <td>91992</td>\n",
       "    </tr>\n",
       "    <tr>\n",
       "      <th>6</th>\n",
       "      <td>5/31/20</td>\n",
       "      <td>182753379.0</td>\n",
       "      <td>119809</td>\n",
       "    </tr>\n",
       "    <tr>\n",
       "      <th>10</th>\n",
       "      <td>9/30/20</td>\n",
       "      <td>161758100.0</td>\n",
       "      <td>39616</td>\n",
       "    </tr>\n",
       "  </tbody>\n",
       "</table>\n",
       "</div>"
      ],
      "text/plain": [
       "       Date  Benefits Paid Initial Claims\n",
       "7   6/30/20    258024297.0         110709\n",
       "9   8/31/20    223939806.0          52303\n",
       "8   7/31/20    189249834.0          91992\n",
       "6   5/31/20    182753379.0         119809\n",
       "10  9/30/20    161758100.0          39616"
      ]
     },
     "execution_count": 5,
     "metadata": {},
     "output_type": "execute_result"
    }
   ],
   "source": [
    "#Test code for arizona exploring our top benefits paid\n",
    "get_top_claims(cleanFiles[0])"
   ]
  },
  {
   "cell_type": "code",
   "execution_count": 6,
   "id": "0094f1f1",
   "metadata": {},
   "outputs": [
    {
     "data": {
      "text/html": [
       "<div>\n",
       "<style scoped>\n",
       "    .dataframe tbody tr th:only-of-type {\n",
       "        vertical-align: middle;\n",
       "    }\n",
       "\n",
       "    .dataframe tbody tr th {\n",
       "        vertical-align: top;\n",
       "    }\n",
       "\n",
       "    .dataframe thead th {\n",
       "        text-align: right;\n",
       "    }\n",
       "</style>\n",
       "<table border=\"1\" class=\"dataframe\">\n",
       "  <thead>\n",
       "    <tr style=\"text-align: right;\">\n",
       "      <th></th>\n",
       "      <th>Month/Year</th>\n",
       "      <th>Unemployment Rate</th>\n",
       "    </tr>\n",
       "  </thead>\n",
       "  <tbody>\n",
       "    <tr>\n",
       "      <th>3</th>\n",
       "      <td>2020-04-01</td>\n",
       "      <td>14.2</td>\n",
       "    </tr>\n",
       "    <tr>\n",
       "      <th>5</th>\n",
       "      <td>2020-06-01</td>\n",
       "      <td>10.7</td>\n",
       "    </tr>\n",
       "    <tr>\n",
       "      <th>4</th>\n",
       "      <td>2020-05-01</td>\n",
       "      <td>10.6</td>\n",
       "    </tr>\n",
       "    <tr>\n",
       "      <th>6</th>\n",
       "      <td>2020-07-01</td>\n",
       "      <td>10.4</td>\n",
       "    </tr>\n",
       "    <tr>\n",
       "      <th>7</th>\n",
       "      <td>2020-08-01</td>\n",
       "      <td>7.0</td>\n",
       "    </tr>\n",
       "  </tbody>\n",
       "</table>\n",
       "</div>"
      ],
      "text/plain": [
       "  Month/Year  Unemployment Rate\n",
       "3 2020-04-01               14.2\n",
       "5 2020-06-01               10.7\n",
       "4 2020-05-01               10.6\n",
       "6 2020-07-01               10.4\n",
       "7 2020-08-01                7.0"
      ]
     },
     "execution_count": 6,
     "metadata": {},
     "output_type": "execute_result"
    }
   ],
   "source": [
    "#Test code for arizona exploring our top levels of Unemployment\n",
    "filter_ur(URfiles[0])"
   ]
  },
  {
   "cell_type": "markdown",
   "id": "2bc7fae0",
   "metadata": {},
   "source": [
    "## Statistical functions to calculate various descriptive statistics related to both unemployment rates and unemployment benefits"
   ]
  },
  {
   "cell_type": "code",
   "execution_count": 7,
   "id": "a9fbf37a",
   "metadata": {},
   "outputs": [],
   "source": [
    "# descriptive stats for Unemployment Insurance\n",
    "def stats_UI(file):\n",
    "    columns = file['Benefits Paid']\n",
    "    simplified = columns.round(5)\n",
    "    stats = simplified.describe()\n",
    "    print(stats)\n",
    "    \n",
    "# stats for Unemployment Rates    \n",
    "def stats_UR(state, file):\n",
    "    columns = file['Unemployment Rate']\n",
    "    stats = columns.describe()\n",
    "    print(f\"\\nThese are the stats for {state.title()} UR 'Value' in simplified notation.\")\n",
    "    print(stats)\n",
    "#correlation between UR and UI benefits\n",
    "def correlation(file1, file2):\n",
    "    Correlation = file1['Benefits Paid'].corr(file2['Unemployment Rate'])\n",
    "    print(Correlation)\n",
    "    \n",
    "def total_descriptive_stats(file):\n",
    "    for i in cleanFiles:\n",
    "        x = stats_UI(i)\n",
    "        UIstatsFiles.append(x)\n",
    "#z scores      \n",
    "def z_score(file):\n",
    "    x = scipy.stats.zscore(file)\n",
    "    return x\n",
    "\n"
   ]
  },
  {
   "cell_type": "markdown",
   "id": "d8fa8038",
   "metadata": {},
   "source": [
    "## Calculates the total cost of the UI program"
   ]
  },
  {
   "cell_type": "code",
   "execution_count": 8,
   "id": "996e8c5e",
   "metadata": {},
   "outputs": [],
   "source": [
    "def program_cost(file):\n",
    "    columns = file['Benefits Paid']\n",
    "    print(columns.sum())\n",
    "def total_cost_all(file):\n",
    "    for i in cleanFiles:\n",
    "        x = program_cost(i)\n",
    "        costFiles.append(x)"
   ]
  },
  {
   "cell_type": "markdown",
   "id": "34d14e13",
   "metadata": {},
   "source": [
    "## These functions calulate the average UI benefits "
   ]
  },
  {
   "cell_type": "code",
   "execution_count": 8,
   "id": "ff829864",
   "metadata": {},
   "outputs": [],
   "source": [
    "# average UI per state\n",
    "def average_UI_per_state(file):\n",
    "    for i in cleanFiles:\n",
    "        test = i['Benefits Paid']\n",
    "        avg = test.mean()\n",
    "        averageUI.append(avg)\n",
    "        \n",
    "#creating a dataframe for our UI data\n",
    "def createavgUIframe(file):\n",
    "    x = pd.DataFrame(file, columns=['Benefits Paid'])\n",
    "    test.append(x)"
   ]
  },
  {
   "cell_type": "markdown",
   "id": "a1460638",
   "metadata": {},
   "source": [
    "## Combining Our UI data Into one table, we can conduct an analysis on \n",
    "## Also combining our UR data into one table"
   ]
  },
  {
   "cell_type": "code",
   "execution_count": 9,
   "id": "ffeb8091",
   "metadata": {
    "scrolled": false
   },
   "outputs": [],
   "source": [
    "#these lists are for our UI data\n",
    "allUI = []\n",
    "UIarray = []\n",
    "mergedDataframeUI = []\n",
    "\n",
    "#these lists are for our UR data\n",
    "allUR = []\n",
    "URarray = []\n",
    "URaggr = []\n",
    "\n",
    "\n",
    "#converting our UI to one dataframe\n",
    "def benefitsPerState(file, location):\n",
    "    for i in file:\n",
    "        columns = i['Benefits Paid']\n",
    "        location.append(columns)\n",
    "        \n",
    "def valuesBenefitsPaid(file, location):\n",
    "    for i in file:\n",
    "        extract = np.array(i)\n",
    "        location.append(extract)\n",
    "        \n",
    "def arrayTodataframe(file, location):\n",
    "    x = pd.DataFrame.from_records(file)\n",
    "    y = x.stack().tolist()\n",
    "    z = pd.DataFrame(data=y, columns = ['Benefits Paid'])\n",
    "    location.append(z)\n",
    "\n",
    "\n",
    "#converting our UR to one dataframe\n",
    "def unemploymentPerState(file, location):\n",
    "    for i in file:\n",
    "        columns = i['Unemployment Rate']\n",
    "        location.append(columns)\n",
    "\n",
    "def valuesUnemployment(file, location):\n",
    "    for i in file:\n",
    "        extract = np.array(i)\n",
    "        location.append(extract)\n",
    "\n",
    "def arrayList(file, location):\n",
    "    x = pd.DataFrame.from_records(file)\n",
    "    y = x.stack().tolist()\n",
    "    z = pd.DataFrame(data=y, columns = ['Unemployment Rate'])\n",
    "    location.append(z)\n",
    "\n",
    "#post covid UI aggregate\n",
    "benefitsPerState(cleanFiles, allUI)\n",
    "valuesBenefitsPaid(allUI, UIarray)\n",
    "arrayTodataframe(UIarray, mergedDataframeUI)\n",
    "UI_values_aggregate = mergedDataframeUI[0]\n",
    "\n",
    "x = pd.concat(URfiles[0:16])\n",
    "UER = x[['Unemployment Rate', 'Month/Year']]"
   ]
  },
  {
   "cell_type": "code",
   "execution_count": 10,
   "id": "c6a78013",
   "metadata": {},
   "outputs": [],
   "source": [
    "#post covid UER aggregate\n",
    "unemploymentPerState(URfiles, allUR)\n",
    "valuesUnemployment(allUR, URarray)\n",
    "arrayList(URarray, URaggr)\n",
    "UR_values_aggregate = URaggr[0]"
   ]
  },
  {
   "cell_type": "markdown",
   "id": "50d47b6e",
   "metadata": {},
   "source": [
    "## Probability distribution Table"
   ]
  },
  {
   "cell_type": "code",
   "execution_count": 11,
   "id": "03eabaab",
   "metadata": {},
   "outputs": [],
   "source": [
    "def probabilityDist(file):\n",
    "\n",
    "    #test code freuqency dsitribution\n",
    "    test0 = file['Benefits Paid']\n",
    "    test1 = test0.describe()\n",
    "    test2 = test0.max() - test0.min()\n",
    "    class_width = test2 / 5\n",
    "\n",
    "    category0 = test0.min()\n",
    "    category1 = category0 + class_width\n",
    "    category2 = category1 + class_width +1\n",
    "    category3 = category2 + class_width +1\n",
    "    category4 = category3 + class_width +1\n",
    "    category5 = category4 + class_width +1\n",
    "\n",
    "    classList = [category0, category1, category2, category3, category4, category5]\n",
    "    classCategories = pd.DataFrame(data=classList, columns=['Classes'])\n",
    "\n",
    "    #Logic + DataFrame Probability\n",
    "    extract = file['Benefits Paid']\n",
    "    x = np.array(extract)\n",
    "\n",
    "    def sortLogic(array):\n",
    "        for int in array:\n",
    "            if int <= category0:\n",
    "                x = 0\n",
    "                testlist.append(x)\n",
    "            elif int <= category1:\n",
    "                x = 1\n",
    "                testlist.append(x)\n",
    "            elif int <= category2:\n",
    "                x = 2\n",
    "                testlist.append(x)\n",
    "            elif int <= category3:\n",
    "                x = 3\n",
    "                testlist.append(x)\n",
    "            elif int <= category4:\n",
    "                x = 4\n",
    "                testlist.append(x)\n",
    "            elif int <= category5:\n",
    "                x = 5\n",
    "                testlist.append(x)\n",
    "\n",
    "    #sorting our data\n",
    "    testlist = []\n",
    "    sortLogic(x)\n",
    "\n",
    "    #formatting our data\n",
    "    sortedData = pd.DataFrame(data=testlist, columns=['Category'])\n",
    "    process1 = sortedData.value_counts().reset_index()\n",
    "    process2 = pd.DataFrame(data=process1, columns=[0])\n",
    "\n",
    "    #concatenating tables\n",
    "    freqTable = pd.concat([classCategories, process2], axis=1)\n",
    "    probabilityFunction = freqTable[0] / 20\n",
    "    probabilityTable = pd.concat([classCategories, probabilityFunction], axis=1)\n",
    "\n",
    "    #this function takes the data frame for probability and converts it into a visualization\n",
    "    def probability_plot(table):\n",
    "        x_values = probabilityTable['Classes']\n",
    "        y_values = probabilityTable[0]\n",
    "        sns.set_theme()\n",
    "        plt.grid()\n",
    "        plt.scatter(x_values, y_values)\n",
    "        plt.xlabel('Class Size', fontsize = 14)\n",
    "        plt.ylabel('Probabilty', fontsize = 14)\n",
    "        plt.title(f'Probabilty Distribution for UI')\n",
    "        plt.grid()\n",
    "        plt.show()\n",
    "\n",
    "    display(probabilityTable)"
   ]
  },
  {
   "cell_type": "markdown",
   "id": "2ec33ac3",
   "metadata": {},
   "source": [
    "## Visualization functions"
   ]
  },
  {
   "cell_type": "code",
   "execution_count": 13,
   "id": "abe405ef",
   "metadata": {},
   "outputs": [],
   "source": [
    "def plotClaim(state, file):\n",
    "    x_values = file[\"Date\"]\n",
    "    y_values = file[\"Benefits Paid\"]\n",
    "    plt.plot(x_values, y_values)\n",
    "    plt.title(f\"{state.title()} Benefits Paid 'in billions'\\n 01/20 - 09/21 \")\n",
    "    plt.xlabel(\"Dates\")\n",
    "    plt.ylabel(\"Number of Claims\")\n",
    "    #size of tick labels\n",
    "    plt.tick_params(axis = 'x', which = 'major', labelsize=6)\n",
    "    plt.grid()\n",
    "    #show graph\n",
    "    plt.show()"
   ]
  },
  {
   "cell_type": "code",
   "execution_count": 14,
   "id": "fa80e8ac",
   "metadata": {},
   "outputs": [
    {
     "data": {
      "image/png": "[encoded data removed]",
      "text/plain": [
       "<Figure size 432x288 with 1 Axes>"
      ]
     },
     "metadata": {
      "needs_background": "light"
     },
     "output_type": "display_data"
    }
   ],
   "source": [
    "#test data\n",
    "plotClaim('Arizona',cleanFiles[0])"
   ]
  },
  {
   "cell_type": "code",
   "execution_count": 15,
   "id": "bf1dc8a3",
   "metadata": {},
   "outputs": [],
   "source": [
    "#this function graphs a probability function for a given state\n",
    "#it takes two arguments that being the state name and the file\n",
    "def probabilityDistplot(state, file):\n",
    "\n",
    "    #test code freuqency dsitribution\n",
    "    test0 = file['Benefits Paid']\n",
    "    test1 = test0.describe()\n",
    "    test2 = test0.max() - test0.min()\n",
    "    class_width = test2 / 5\n",
    "\n",
    "    category0 = test0.min()\n",
    "    category1 = category0 + class_width\n",
    "    category2 = category1 + class_width +1\n",
    "    category3 = category2 + class_width +1\n",
    "    category4 = category3 + class_width +1\n",
    "    category5 = category4 + class_width +1\n",
    "\n",
    "    classList = [category0, category1, category2, category3, category4, category5]\n",
    "    classCategories = pd.DataFrame(data=classList, columns=['Classes'])\n",
    "\n",
    "    #Logic + DataFrame Probability\n",
    "    extract = file['Benefits Paid']\n",
    "    x = np.array(extract)\n",
    "\n",
    "    def sortLogic(array):\n",
    "        for int in array:\n",
    "            if int <= category0:\n",
    "                x = 0\n",
    "                testlist.append(x)\n",
    "            elif int <= category1:\n",
    "                x = 1\n",
    "                testlist.append(x)\n",
    "            elif int <= category2:\n",
    "                x = 2\n",
    "                testlist.append(x)\n",
    "            elif int <= category3:\n",
    "                x = 3\n",
    "                testlist.append(x)\n",
    "            elif int <= category4:\n",
    "                x = 4\n",
    "                testlist.append(x)\n",
    "            elif int <= category5:\n",
    "                x = 5\n",
    "                testlist.append(x)\n",
    "\n",
    "    #sorting our data\n",
    "    testlist = []\n",
    "    sortLogic(x)\n",
    "\n",
    "    #formatting our data\n",
    "    sortedData = pd.DataFrame(data=testlist, columns=['Category'])\n",
    "    process1 = sortedData.value_counts().reset_index()\n",
    "    process2 = pd.DataFrame(data=process1, columns=[0])\n",
    "\n",
    "    #concatenating tables\n",
    "    freqTable = pd.concat([classCategories, process2], axis=1)\n",
    "    probabilityFunction = freqTable[0] / 20\n",
    "    probabilityTable = pd.concat([classCategories, probabilityFunction], axis=1)\n",
    "\n",
    "    #this function takes the data frame for probability and converts it into a visualization\n",
    "    def probability_plot(table):\n",
    "        x_values = probabilityTable['Classes']\n",
    "        y_values = probabilityTable[0]\n",
    "        sns.set_theme()\n",
    "        plt.grid()\n",
    "        plt.scatter(x_values, y_values)\n",
    "        plt.xlabel('Class Size', fontsize = 14)\n",
    "        plt.ylabel('Probabilty', fontsize = 14)\n",
    "        plt.title(f'Probabilty Distribution for {state.title()} UI Benefits \"01/2020 - 09/2021\"')\n",
    "        plt.grid()\n",
    "        plt.show()\n",
    "\n",
    "    probability_plot(probabilityTable)"
   ]
  },
  {
   "cell_type": "code",
   "execution_count": 16,
   "id": "36fe65c5",
   "metadata": {},
   "outputs": [
    {
     "data": {
      "image/png": "[encoded data removed]",
      "text/plain": [
       "<Figure size 432x288 with 1 Axes>"
      ]
     },
     "metadata": {},
     "output_type": "display_data"
    }
   ],
   "source": [
    "probabilityDistplot('AZ', cleanFiles[0])"
   ]
  },
  {
   "cell_type": "code",
   "execution_count": 17,
   "id": "3b6d77bb",
   "metadata": {},
   "outputs": [],
   "source": [
    "#correlation dist\n",
    "def correlation_dist(state, UIfile, URfile, timeframe, X_var_name):\n",
    "    x_values = UIfile\n",
    "    y_values = URfile[['Unemployment Rate']]\n",
    "    sns.set_theme()\n",
    "    plt.xlabel(f'{X_var_name}', fontsize = 16)\n",
    "    plt.ylabel('Unemployment Rate', fontsize = 16)\n",
    "    plt.title(f\"Correlation Plot of Unemployment Rates and {X_var_name} \\n In {state.title()} {timeframe}\", fontsize = 16)\n",
    "    plt.scatter(x_values, y_values)\n",
    "    plt.show()"
   ]
  },
  {
   "cell_type": "code",
   "execution_count": 20,
   "id": "cf2bb905",
   "metadata": {},
   "outputs": [
    {
     "data": {
      "image/png": "[encoded data removed]",
      "text/plain": [
       "<Figure size 432x288 with 1 Axes>"
      ]
     },
     "metadata": {},
     "output_type": "display_data"
    }
   ],
   "source": [
    "correlation_dist('Whole Sample', UI_values_aggregate, UR_values_aggregate, \"01/20-08/21\", \"Benefits Paid\")"
   ]
  },
  {
   "cell_type": "code",
   "execution_count": 21,
   "id": "aec1db1d",
   "metadata": {},
   "outputs": [
    {
     "name": "stdout",
     "output_type": "stream",
     "text": [
      "0.473459924926593\n"
     ]
    }
   ],
   "source": [
    "correlation(UI_values_aggregate, UR_values_aggregate)"
   ]
  },
  {
   "cell_type": "markdown",
   "id": "74470635",
   "metadata": {},
   "source": [
    "# Hypothesis test for statistical significance between the correlation of UI and UER Post Covid 2020-2021"
   ]
  },
  {
   "cell_type": "code",
   "execution_count": 23,
   "id": "8cb9e446",
   "metadata": {},
   "outputs": [
    {
     "name": "stdout",
     "output_type": "stream",
     "text": [
      "The test statistic is 8.97\n",
      "The p value is 2.6451057228468777e-17\n",
      "\n",
      "\n",
      "Becuase 0.05 (alpha) is greater than 2.6451057228468777e-17 (p-value), we will reject the null hypothesis\n"
     ]
    },
    {
     "data": {
      "text/plain": [
       "None"
      ]
     },
     "metadata": {},
     "output_type": "display_data"
    }
   ],
   "source": [
    "#hypothesis test for correlation values\n",
    "\n",
    "def test_statistic(corrValue, sampleSize):\n",
    "    degreesOffreedom = sampleSize - 2\n",
    "    num = 1 - (corrValue)**2\n",
    "    denom = degreesOffreedom\n",
    "    testStatistic = corrValue / math.sqrt(num / denom)\n",
    "    return testStatistic\n",
    "\n",
    "def p_value(i, DF):\n",
    "    x = scipy.stats.t.sf(abs(i), df=DF)*2\n",
    "    return x\n",
    "    \n",
    "def reject_or_not_p(p, a):\n",
    "    if p <= a:\n",
    "        print(f\"Becuase {a} (alpha) is greater than {p} (p-value), we will reject the null hypothesis\")\n",
    "    elif a < p:\n",
    "        print(f\"Becuase {p} is greater than {a}, we cannot reject the null hypothesis\")\n",
    "\n",
    "test_stat = round(test_statistic(0.45, 319),2)\n",
    "p_val = p_value(8.97, 317)\n",
    "critical_val_lower = round(sp.stats.t.ppf(.05/2, 317),2)\n",
    "critical_val_upper = round(sp.stats.t.ppf(1-.05/2, 317),2)\n",
    "\n",
    "print(f\"The test statistic is {test_stat}\")\n",
    "print(f\"The p value is {p_val}\")\n",
    "print(\"\\n\")\n",
    "display(reject_or_not_p(p_val, .05))"
   ]
  },
  {
   "cell_type": "markdown",
   "id": "342759f4",
   "metadata": {},
   "source": [
    "# ANOVA Tests for Unemployment Rates Pre and Post COVID Between Sample Groups work in progress"
   ]
  },
  {
   "cell_type": "code",
   "execution_count": 24,
   "id": "40b99a02",
   "metadata": {},
   "outputs": [],
   "source": [
    "testPre = []\n",
    "testPost = []\n",
    "\n",
    "#Getting Pre covid data, for ANOVA test\n",
    "getURdata(UR_Data, '2017-06-01', '2019-01-01', testPre)\n",
    "getURdata(UR_Data, '2020-01-01', '2021-08-01', testPost)\n"
   ]
  },
  {
   "cell_type": "code",
   "execution_count": 25,
   "id": "91abf91a",
   "metadata": {},
   "outputs": [],
   "source": [
    "#Grouping our data sets into blocks, one pro coivd the other anti coivd\n",
    "UERpostAnti = pd.concat(testPost[0:8])\n",
    "UERpostPro = pd.concat(testPost[8:16])\n",
    "\n",
    "UERpreAnti = pd.concat(testPre[0:8])\n",
    "UERprePro = pd.concat(testPre[8:16])"
   ]
  },
  {
   "cell_type": "code",
   "execution_count": 26,
   "id": "efa95334",
   "metadata": {},
   "outputs": [],
   "source": [
    "#adding classification column into our frames \n",
    "UERpostAnti['Classification']= 'Pro'\n",
    "UERpostPro['Classification']= 'Anti'\n"
   ]
  },
  {
   "cell_type": "code",
   "execution_count": 27,
   "id": "7370c3a7",
   "metadata": {},
   "outputs": [],
   "source": [
    "UERpostAnti = UERpostAnti.drop('Month/Year', axis=1)\n",
    "UERpostPro = UERpostPro.drop('Month/Year', axis=1)\n",
    "frames = [UERpostAnti,UERpostPro]"
   ]
  },
  {
   "cell_type": "code",
   "execution_count": 28,
   "id": "ed779e1f",
   "metadata": {},
   "outputs": [],
   "source": [
    "FinalFrame = pd.concat(frames)\n"
   ]
  },
  {
   "cell_type": "code",
   "execution_count": 29,
   "id": "d2aa44c6",
   "metadata": {},
   "outputs": [
    {
     "data": {
      "text/plain": [
       "count    160.00000\n",
       "mean       6.30000\n",
       "std        2.77747\n",
       "min        2.40000\n",
       "25%        4.77500\n",
       "50%        6.00000\n",
       "75%        7.00000\n",
       "max       16.40000\n",
       "Name: Unemployment Rate, dtype: float64"
      ]
     },
     "execution_count": 29,
     "metadata": {},
     "output_type": "execute_result"
    }
   ],
   "source": [
    "#states that are against UI, unemployment rate data summarized\n",
    "UERpostAnti['Unemployment Rate'].describe()"
   ]
  },
  {
   "cell_type": "code",
   "execution_count": 30,
   "id": "fb6e33d0",
   "metadata": {},
   "outputs": [
    {
     "data": {
      "text/plain": [
       "count    160.000000\n",
       "mean       8.274375\n",
       "std        4.003446\n",
       "min        2.700000\n",
       "25%        5.875000\n",
       "50%        7.700000\n",
       "75%        9.300000\n",
       "max       29.500000\n",
       "Name: Unemployment Rate, dtype: float64"
      ]
     },
     "execution_count": 30,
     "metadata": {},
     "output_type": "execute_result"
    }
   ],
   "source": [
    "#states pro UI, unemplyomet rate data summarized\n",
    "UERpostPro['Unemployment Rate'].describe()"
   ]
  },
  {
   "cell_type": "markdown",
   "id": "dca13188",
   "metadata": {},
   "source": [
    "## We are testing if there is statistically significant difference between Unemployment Rates for states who supported UI insurance and between states who were agianst UI insurance both post and pre covid\n",
    "#Null: There is no difference between the sample means both pre and post covid\n",
    "#Alternate: There is a difference between at least two of the sample means, pre and post covid"
   ]
  },
  {
   "cell_type": "code",
   "execution_count": 31,
   "id": "2bfccb2d",
   "metadata": {},
   "outputs": [
    {
     "data": {
      "text/plain": [
       "F_onewayResult(statistic=98.4449652082046, pvalue=2.398488164264668e-52)"
      ]
     },
     "execution_count": 31,
     "metadata": {},
     "output_type": "execute_result"
    }
   ],
   "source": [
    "scipy.stats.f_oneway(UERpreAnti['Unemployment Rate'],UERprePro['Unemployment Rate'], UERpostAnti['Unemployment Rate'], UERpostPro['Unemployment Rate'])"
   ]
  },
  {
   "cell_type": "code",
   "execution_count": 32,
   "id": "672eb1ae",
   "metadata": {},
   "outputs": [
    {
     "name": "stdout",
     "output_type": "stream",
     "text": [
      "Becuase 0.05 (alpha) is greater than 2.398488164264668e-52 (p-value), we will reject the null hypothesis\n"
     ]
    }
   ],
   "source": [
    "reject_or_not_p(2.398488164264668e-52, .05)"
   ]
  },
  {
   "cell_type": "markdown",
   "id": "410cee84",
   "metadata": {},
   "source": [
    "# This test is only focused on UER post COVID and differs from the one above."
   ]
  },
  {
   "cell_type": "code",
   "execution_count": 33,
   "id": "f583c1bd",
   "metadata": {},
   "outputs": [
    {
     "data": {
      "text/plain": [
       "F_onewayResult(statistic=26.270205572604734, pvalue=5.162867374710743e-07)"
      ]
     },
     "execution_count": 33,
     "metadata": {},
     "output_type": "execute_result"
    }
   ],
   "source": [
    "scipy.stats.f_oneway(UERpostAnti['Unemployment Rate'], UERpostPro['Unemployment Rate'])"
   ]
  },
  {
   "cell_type": "code",
   "execution_count": 34,
   "id": "415db3b2",
   "metadata": {},
   "outputs": [
    {
     "name": "stdout",
     "output_type": "stream",
     "text": [
      "Becuase 0.05 (alpha) is greater than 5.162867374710743e-07 (p-value), we will reject the null hypothesis\n"
     ]
    }
   ],
   "source": [
    "reject_or_not_p(5.162867374710743e-07, .05)"
   ]
  },
  {
   "cell_type": "code",
   "execution_count": 37,
   "id": "bcb7b4fc",
   "metadata": {},
   "outputs": [
    {
     "data": {
      "text/html": [
       "<div>\n",
       "<style scoped>\n",
       "    .dataframe tbody tr th:only-of-type {\n",
       "        vertical-align: middle;\n",
       "    }\n",
       "\n",
       "    .dataframe tbody tr th {\n",
       "        vertical-align: top;\n",
       "    }\n",
       "\n",
       "    .dataframe thead th {\n",
       "        text-align: right;\n",
       "    }\n",
       "</style>\n",
       "<table border=\"1\" class=\"dataframe\">\n",
       "  <thead>\n",
       "    <tr style=\"text-align: right;\">\n",
       "      <th></th>\n",
       "      <th>Unemployment Rate</th>\n",
       "    </tr>\n",
       "  </thead>\n",
       "  <tbody>\n",
       "    <tr>\n",
       "      <th>0</th>\n",
       "      <td>4.8</td>\n",
       "    </tr>\n",
       "    <tr>\n",
       "      <th>1</th>\n",
       "      <td>4.9</td>\n",
       "    </tr>\n",
       "    <tr>\n",
       "      <th>2</th>\n",
       "      <td>5.0</td>\n",
       "    </tr>\n",
       "    <tr>\n",
       "      <th>3</th>\n",
       "      <td>14.2</td>\n",
       "    </tr>\n",
       "    <tr>\n",
       "      <th>4</th>\n",
       "      <td>10.6</td>\n",
       "    </tr>\n",
       "    <tr>\n",
       "      <th>...</th>\n",
       "      <td>...</td>\n",
       "    </tr>\n",
       "    <tr>\n",
       "      <th>155</th>\n",
       "      <td>2.8</td>\n",
       "    </tr>\n",
       "    <tr>\n",
       "      <th>156</th>\n",
       "      <td>2.7</td>\n",
       "    </tr>\n",
       "    <tr>\n",
       "      <th>157</th>\n",
       "      <td>2.7</td>\n",
       "    </tr>\n",
       "    <tr>\n",
       "      <th>158</th>\n",
       "      <td>2.6</td>\n",
       "    </tr>\n",
       "    <tr>\n",
       "      <th>159</th>\n",
       "      <td>2.5</td>\n",
       "    </tr>\n",
       "  </tbody>\n",
       "</table>\n",
       "<p>160 rows × 1 columns</p>\n",
       "</div>"
      ],
      "text/plain": [
       "     Unemployment Rate\n",
       "0                  4.8\n",
       "1                  4.9\n",
       "2                  5.0\n",
       "3                 14.2\n",
       "4                 10.6\n",
       "..                 ...\n",
       "155                2.8\n",
       "156                2.7\n",
       "157                2.7\n",
       "158                2.6\n",
       "159                2.5\n",
       "\n",
       "[160 rows x 1 columns]"
      ]
     },
     "metadata": {},
     "output_type": "display_data"
    }
   ],
   "source": [
    "#Aggregate Post covid UI + UER values ONLY ANTI UI\n",
    "ANTI_all_UI = []\n",
    "ANTI_UI_array = []\n",
    "ANTImergedDataframeUI = []\n",
    "\n",
    "#ANTI UI\n",
    "benefitsPerState(cleanFiles[0:8], ANTI_all_UI)\n",
    "valuesBenefitsPaid(ANTI_all_UI, ANTI_UI_array)\n",
    "arrayTodataframe(ANTI_UI_array, ANTImergedDataframeUI)\n",
    "UI_values_aggregate_ANTI = ANTImergedDataframeUI[0]\n",
    "\n",
    "\n",
    "#ANTI UER\n",
    "ANTI_all_UER = []\n",
    "ANTI_UER_array = []\n",
    "ANTImergedDataframeUER = []\n",
    "\n",
    "unemploymentPerState(URfiles[0:8], ANTI_all_UER)\n",
    "valuesUnemployment(ANTI_all_UER, ANTI_UER_array)\n",
    "arrayList(ANTI_UER_array, ANTImergedDataframeUER)\n",
    "UR_values_aggregate_ANTI = ANTImergedDataframeUER[0]\n",
    "display(UR_values_aggregate_ANTI)"
   ]
  },
  {
   "cell_type": "code",
   "execution_count": 38,
   "id": "54b6d13e",
   "metadata": {},
   "outputs": [],
   "source": [
    "#Aggregate Post covid UI + UER values ONLY ANTI UI\n",
    "\n",
    "#pro UI values\n",
    "PRO_all_UI = []\n",
    "PRO_UI_array = []\n",
    "PROmergedDataframeUI = []\n",
    "\n",
    "benefitsPerState(cleanFiles[8:16], PRO_all_UI)\n",
    "valuesBenefitsPaid(PRO_all_UI, PRO_UI_array)\n",
    "arrayTodataframe(PRO_UI_array, PROmergedDataframeUI)\n",
    "UI_values_aggregate_PRO = PROmergedDataframeUI[0]\n",
    "\n",
    "#PRO UER values \n",
    "PRO_all_UER = []\n",
    "PRO_UER_array = []\n",
    "PROmergedDataframeUER = []\n",
    "\n",
    "unemploymentPerState(URfiles[8:16], PRO_all_UER)\n",
    "valuesUnemployment(PRO_all_UER, PRO_UER_array)\n",
    "arrayList(PRO_UER_array, PROmergedDataframeUER)\n",
    "UR_values_aggregate_PRO = PROmergedDataframeUER[0]"
   ]
  },
  {
   "cell_type": "code",
   "execution_count": 40,
   "id": "687396fc",
   "metadata": {
    "scrolled": false
   },
   "outputs": [
    {
     "name": "stdout",
     "output_type": "stream",
     "text": [
      "                            OLS Regression Results                            \n",
      "==============================================================================\n",
      "Dep. Variable:      Unemployment Rate   R-squared:                       0.225\n",
      "Model:                            OLS   Adj. R-squared:                  0.220\n",
      "Method:                 Least Squares   F-statistic:                     46.00\n",
      "Date:                Fri, 10 Dec 2021   Prob (F-statistic):           2.88e-18\n",
      "Time:                        11:21:31   Log-Likelihood:                -413.29\n",
      "No. Observations:                 320   AIC:                             832.6\n",
      "Df Residuals:                     317   BIC:                             843.9\n",
      "Df Model:                           2                                         \n",
      "Covariance Type:            nonrobust                                         \n",
      "==================================================================================\n",
      "                     coef    std err          t      P>|t|      [0.025      0.975]\n",
      "----------------------------------------------------------------------------------\n",
      "const          -3.469e-17      0.049  -7.02e-16      1.000      -0.097       0.097\n",
      "Benefits Paid      0.5060      0.076      6.654      0.000       0.356       0.656\n",
      "Initial Claims    -0.0429      0.076     -0.564      0.573      -0.192       0.107\n",
      "==============================================================================\n",
      "Omnibus:                      176.390   Durbin-Watson:                   0.700\n",
      "Prob(Omnibus):                  0.000   Jarque-Bera (JB):             1445.056\n",
      "Skew:                           2.151   Prob(JB):                         0.00\n",
      "Kurtosis:                      12.480   Cond. No.                         2.71\n",
      "==============================================================================\n",
      "\n",
      "Notes:\n",
      "[1] Standard Errors assume that the covariance matrix of the errors is correctly specified.\n"
     ]
    }
   ],
   "source": [
    "#cleaning our data set for a new multiple regression model \n",
    "\n",
    "\n",
    "claims_benefits_paid_pro = []\n",
    "claims_benefits_paid_anti = []\n",
    "\n",
    "def get_claims_benefits_paid(file, endFile):\n",
    "    for i in file:\n",
    "        columns = i[['Benefits Paid', 'Initial Claims']]\n",
    "        endFile.append(columns)\n",
    "\n",
    "\n",
    "get_claims_benefits_paid(cleanFiles[0:8], claims_benefits_paid_anti)\n",
    "get_claims_benefits_paid(cleanFiles[8:16],claims_benefits_paid_pro)\n",
    "\n",
    "\n",
    "df_anti_claims_benefits = pd.concat(claims_benefits_paid_anti).astype(int)\n",
    "df_pro_claims_benefits = pd.concat(claims_benefits_paid_pro).astype(int)\n",
    "\n",
    "df_anti_claims_benefits = df_anti_claims_benefits.reset_index()\n",
    "df_pro_claims_benefits = df_pro_claims_benefits.reset_index()\n",
    "\n",
    "aggr_multiple_reggression = pd.concat([df_anti_claims_benefits, df_pro_claims_benefits])\n",
    "\n",
    "\n",
    "aggr_multiple_reggression.reset_index(drop=True, inplace=True)\n",
    "UER.reset_index(drop=True, inplace=True)\n",
    "\n",
    "\n",
    "#mutliple regression model for inital claims and benefits paid anti \n",
    "X = z_score(aggr_multiple_reggression[['Benefits Paid', 'Initial Claims']])\n",
    "Y = z_score(UER[['Unemployment Rate']])\n",
    "X = sm.add_constant(X)\n",
    "\n",
    "\n",
    "model = sm.OLS(Y, X).fit()\n",
    "model_summary = model.summary()\n",
    "print(model_summary)"
   ]
  },
  {
   "cell_type": "code",
   "execution_count": 41,
   "id": "13b6da7b",
   "metadata": {},
   "outputs": [
    {
     "name": "stderr",
     "output_type": "stream",
     "text": [
      "/Library/Frameworks/Python.framework/Versions/3.9/lib/python3.9/site-packages/seaborn/_decorators.py:36: FutureWarning: Pass the following variables as keyword args: x, y. From version 0.12, the only valid positional argument will be `data`, and passing other arguments without an explicit keyword will result in an error or misinterpretation.\n",
      "  warnings.warn(\n"
     ]
    },
    {
     "data": {
      "text/plain": [
       "<AxesSubplot:xlabel='Initial Claims', ylabel='Unemployment Rate'>"
      ]
     },
     "execution_count": 41,
     "metadata": {},
     "output_type": "execute_result"
    },
    {
     "data": {
      "image/png": "[encoded data removed]",
      "text/plain": [
       "<Figure size 432x288 with 1 Axes>"
      ]
     },
     "metadata": {},
     "output_type": "display_data"
    }
   ],
   "source": [
    "sns.regplot(aggr_multiple_reggression[['Initial Claims']],UER[['Unemployment Rate']])"
   ]
  },
  {
   "cell_type": "code",
   "execution_count": 42,
   "id": "d4f5e6d8",
   "metadata": {},
   "outputs": [
    {
     "name": "stderr",
     "output_type": "stream",
     "text": [
      "/Library/Frameworks/Python.framework/Versions/3.9/lib/python3.9/site-packages/seaborn/_decorators.py:36: FutureWarning: Pass the following variables as keyword args: x, y. From version 0.12, the only valid positional argument will be `data`, and passing other arguments without an explicit keyword will result in an error or misinterpretation.\n",
      "  warnings.warn(\n"
     ]
    },
    {
     "data": {
      "text/plain": [
       "<AxesSubplot:xlabel='Benefits Paid', ylabel='Unemployment Rate'>"
      ]
     },
     "execution_count": 42,
     "metadata": {},
     "output_type": "execute_result"
    },
    {
     "data": {
      "image/png": "[encoded data removed]",
      "text/plain": [
       "<Figure size 432x288 with 1 Axes>"
      ]
     },
     "metadata": {},
     "output_type": "display_data"
    }
   ],
   "source": [
    "sns.regplot(aggr_multiple_reggression[['Benefits Paid']],UER[['Unemployment Rate']])"
   ]
  }
 ],
 "metadata": {
  "kernelspec": {
   "display_name": "Python 3 (ipykernel)",
   "language": "python",
   "name": "python3"
  },
  "language_info": {
   "codemirror_mode": {
    "name": "ipython",
    "version": 3
   },
   "file_extension": ".py",
   "mimetype": "text/x-python",
   "name": "python",
   "nbconvert_exporter": "python",
   "pygments_lexer": "ipython3",
   "version": "3.9.6"
  }
 },
 "nbformat": 4,
 "nbformat_minor": 5
}
